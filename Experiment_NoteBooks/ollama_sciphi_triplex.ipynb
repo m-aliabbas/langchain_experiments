{
 "cells": [
  {
   "cell_type": "code",
   "execution_count": 2,
   "metadata": {},
   "outputs": [],
   "source": [
    "from ollama import Client\n",
    "client = Client(host='http://192.168.100.100:11434')"
   ]
  },
  {
   "cell_type": "code",
   "execution_count": 9,
   "metadata": {},
   "outputs": [],
   "source": [
    "import json"
   ]
  },
  {
   "cell_type": "code",
   "execution_count": 14,
   "metadata": {},
   "outputs": [],
   "source": [
    "def triplextract(text, entity_types, predicates):\n",
    "    input_format = \"\"\"\n",
    "        **Entity Types:**\n",
    "        {entity_types}\n",
    "\n",
    "        **Predicates:**\n",
    "        {predicates}\n",
    "\n",
    "        **Text:**\n",
    "        {text}\n",
    "        \"\"\"\n",
    "\n",
    "    message = input_format.format(\n",
    "                entity_types = json.dumps({\"entity_types\": entity_types}),\n",
    "                predicates = json.dumps({\"predicates\": predicates}),\n",
    "                text = text)\n",
    "\n",
    "    # Pass the message as a single string\n",
    "    prompt = message\n",
    "    output = client.generate(model='sciphi/triplex', prompt=prompt)\n",
    "    return output"
   ]
  },
  {
   "cell_type": "code",
   "execution_count": 21,
   "metadata": {},
   "outputs": [],
   "source": [
    "def post_process(response):\n",
    "    response_string = prediction['response'].strip('```json\\n').strip()\n",
    "    response_string = response_string.lstrip('\\n')\n",
    "    response_string = response_string.strip('```')\n",
    "    response_string = response_string.replace('```', '')\n",
    "    response_string = response_string.replace(\"json\", \"\")\n",
    "    response_json = json.loads(response_string)\n",
    "    entities_and_triples = response_json['entities_and_triples'\n",
    "                                         ]\n",
    "    return entities_and_triples"
   ]
  },
  {
   "cell_type": "code",
   "execution_count": 15,
   "metadata": {},
   "outputs": [],
   "source": [
    "entity_types = [\"PERSON\", \"LOCATION\"]\n",
    "predicates = [\"PROFESSION\", \"BASED_IN\"]"
   ]
  },
  {
   "cell_type": "code",
   "execution_count": 16,
   "metadata": {},
   "outputs": [],
   "source": [
    "text = \"\"\"Elon Reeve Musk FRS is a businessman and investor known for his key roles in space company SpaceX and automotive company Tesla, Inc. Other involvements include ownership of X Corp., formerly Twitter, and his role in the founding of The Boring Company, xAI, Neuralink and OpenAI\n",
    "\"\"\""
   ]
  },
  {
   "cell_type": "code",
   "execution_count": 17,
   "metadata": {},
   "outputs": [],
   "source": [
    "prediction = triplextract(text, entity_types, predicates)"
   ]
  },
  {
   "cell_type": "code",
   "execution_count": 22,
   "metadata": {},
   "outputs": [],
   "source": [
    "entities_and_triples = post_process(prediction)"
   ]
  },
  {
   "cell_type": "code",
   "execution_count": 23,
   "metadata": {},
   "outputs": [
    {
     "data": {
      "text/plain": [
       "['[1], PERSON:Elon Reeve Musk',\n",
       " '[2], LOCATION:SpaceX',\n",
       " '[3], LOCATION:Tesla, Inc.',\n",
       " '[4], LOCATION:Twitter',\n",
       " '[5], LOCATION:The Boring Company',\n",
       " '[6], LOCATION:xAI',\n",
       " '[7], LOCATION:Neuralink',\n",
       " '[8], PERSON:Elon Musk']"
      ]
     },
     "execution_count": 23,
     "metadata": {},
     "output_type": "execute_result"
    }
   ],
   "source": [
    "entities_and_triples"
   ]
  },
  {
   "cell_type": "code",
   "execution_count": null,
   "metadata": {},
   "outputs": [],
   "source": []
  }
 ],
 "metadata": {
  "kernelspec": {
   "display_name": "llm_langchain",
   "language": "python",
   "name": "python3"
  },
  "language_info": {
   "codemirror_mode": {
    "name": "ipython",
    "version": 3
   },
   "file_extension": ".py",
   "mimetype": "text/x-python",
   "name": "python",
   "nbconvert_exporter": "python",
   "pygments_lexer": "ipython3",
   "version": "3.10.13"
  }
 },
 "nbformat": 4,
 "nbformat_minor": 2
}
