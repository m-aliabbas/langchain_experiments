{
  "nbformat": 4,
  "nbformat_minor": 0,
  "metadata": {
    "colab": {
      "provenance": []
    },
    "kernelspec": {
      "name": "python3",
      "display_name": "Python 3"
    },
    "language_info": {
      "name": "python"
    }
  },
  "cells": [
    {
      "cell_type": "markdown",
      "source": [
        "## Setting up Envoirnment"
      ],
      "metadata": {
        "id": "PG6Szbrs39JK"
      }
    },
    {
      "cell_type": "code",
      "execution_count": 2,
      "metadata": {
        "id": "-PIt8bpP0bDK"
      },
      "outputs": [],
      "source": [
        "import os\n",
        "os.environ[\"GROQ_API_KEY\"] = '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'"
      ]
    },
    {
      "cell_type": "code",
      "source": [
        "!pip install -qU langchain langchain-groq"
      ],
      "metadata": {
        "id": "HX2NZDti1Fgq"
      },
      "execution_count": 4,
      "outputs": []
    },
    {
      "cell_type": "code",
      "source": [
        "from langchain_groq import ChatGroq\n",
        "from typing import List\n",
        "from langchain.output_parsers import PydanticOutputParser\n",
        "from langchain_core.prompts import PromptTemplate\n",
        "from langchain_core.pydantic_v1 import BaseModel, Field, validator"
      ],
      "metadata": {
        "id": "oX15fEgV4XJ7"
      },
      "execution_count": 26,
      "outputs": []
    },
    {
      "cell_type": "markdown",
      "source": [
        "## Initializing LLM"
      ],
      "metadata": {
        "id": "eoEF_p6t4MHW"
      }
    },
    {
      "cell_type": "code",
      "source": [
        "llm = ChatGroq(\n",
        "    model=\"llama-3.1-70b-versatile\",\n",
        "    temperature=0,\n",
        "    max_tokens=None,\n",
        "    timeout=None,\n",
        "    max_retries=3,\n",
        "    # other params...\n",
        ")"
      ],
      "metadata": {
        "id": "Fz9__Dxy1IvM"
      },
      "execution_count": 5,
      "outputs": []
    },
    {
      "cell_type": "markdown",
      "source": [
        "## Definining the Agent"
      ],
      "metadata": {
        "id": "sAdRDtDZ4Z8i"
      }
    },
    {
      "cell_type": "markdown",
      "source": [
        "As we need to extract the types of entities and related predicates so we are using the Pydantic Model for structure output."
      ],
      "metadata": {
        "id": "9OX8tAit4jX-"
      }
    },
    {
      "cell_type": "code",
      "source": [
        "# Define your desired data structure.\n",
        "class TriplexModel(BaseModel):\n",
        "    entity_name_list: List[str] = Field(description=\"The list of all entities type in text\")\n",
        "    predicates_list: List[str] = Field(description=\"The list of all predicate type in text\")\n"
      ],
      "metadata": {
        "id": "hncwF6P11xs7"
      },
      "execution_count": 11,
      "outputs": []
    },
    {
      "cell_type": "code",
      "source": [
        "parser = PydanticOutputParser(pydantic_object=TriplexModel)"
      ],
      "metadata": {
        "id": "Dba8TV5_2Oc6"
      },
      "execution_count": 12,
      "outputs": []
    },
    {
      "cell_type": "markdown",
      "source": [
        "Prompt Engneering comes here. We can write a better prompt but for me this is working as expected"
      ],
      "metadata": {
        "id": "qfZNRgcG4vmf"
      }
    },
    {
      "cell_type": "code",
      "source": [
        "prompt = PromptTemplate(\n",
        "    template=\"You will be given a text.  You need to extract the list of entities types and predicates type . \\n{format_instructions}\\n{query}\\n\",\n",
        "    input_variables=[\"query\"],\n",
        "    partial_variables={\"format_instructions\": parser.get_format_instructions()},\n",
        ")"
      ],
      "metadata": {
        "id": "LtiPD25l2VLB"
      },
      "execution_count": 19,
      "outputs": []
    },
    {
      "cell_type": "markdown",
      "source": [
        "Input text comes here;"
      ],
      "metadata": {
        "id": "N_-1PqKi43XC"
      }
    },
    {
      "cell_type": "code",
      "source": [
        "text = \"\"\"\n",
        "Deeper neural networks are more difficult to train. We present a residual learning framework to ease the training of networks that are substantially deeper than those used previously. We explicitly reformulate the layers as learning residual functions with reference to the layer inputs, instead of learning unreferenced functions. We provide comprehensive empirical evidence showing that these residual networks are easier to optimize, and can gain accuracy from considerably increased depth. On the ImageNet dataset we evaluate residual nets with a depth of up to 152 layers---8x deeper than VGG nets but still having lower complexity. An ensemble of these residual nets achieves 3.57% error on the ImageNet test set. This result won the 1st place on the ILSVRC 2015 classification task. We also present analysis on CIFAR-10 with 100 and 1000 layers.\n",
        "The depth of representations is of central importance for many visual recognition tasks. Solely due to our extremely deep representations, we obtain a 28% relative improvement on the COCO object detection dataset. Deep residual nets are foundations of our submissions to ILSVRC & COCO 2015 competitions, where we also won the 1st places on the tasks of ImageNet detection, ImageNet localization, COCO detection, and COCO segmentation.\n",
        " \"\"\""
      ],
      "metadata": {
        "id": "vz4BCotO24NG"
      },
      "execution_count": 20,
      "outputs": []
    },
    {
      "cell_type": "markdown",
      "source": [
        "Making the Chain and Querying it."
      ],
      "metadata": {
        "id": "Nf9eCrcq47X0"
      }
    },
    {
      "cell_type": "code",
      "source": [
        "chain = prompt | llm | parser\n",
        "\n",
        "result = chain.invoke({\"query\": text})"
      ],
      "metadata": {
        "id": "sZBsGh-22neE"
      },
      "execution_count": 22,
      "outputs": []
    },
    {
      "cell_type": "markdown",
      "source": [
        "Thanks | Mohammad Ali Abbas"
      ],
      "metadata": {
        "id": "J82iR-PG496j"
      }
    }
  ]
}